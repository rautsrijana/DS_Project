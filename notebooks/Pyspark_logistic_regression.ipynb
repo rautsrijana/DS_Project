{
 "cells": [
  {
   "cell_type": "code",
   "execution_count": 1,
   "id": "36149df2",
   "metadata": {},
   "outputs": [],
   "source": [
    "# Load our Pkgs\n",
    "from pyspark import SparkContext"
   ]
  },
  {
   "cell_type": "code",
   "execution_count": 2,
   "id": "6c7bdc1a",
   "metadata": {},
   "outputs": [
    {
     "name": "stdout",
     "output_type": "stream",
     "text": [
      "22/11/24 13:45:04 WARN Utils: Your hostname, Srijanas-MacBook-Pro.local resolves to a loopback address: 127.0.0.1; using 192.168.40.20 instead (on interface en0)\n",
      "22/11/24 13:45:04 WARN Utils: Set SPARK_LOCAL_IP if you need to bind to another address\n"
     ]
    },
    {
     "name": "stderr",
     "output_type": "stream",
     "text": [
      "Setting default log level to \"WARN\".\n",
      "To adjust logging level use sc.setLogLevel(newLevel). For SparkR, use setLogLevel(newLevel).\n"
     ]
    },
    {
     "name": "stdout",
     "output_type": "stream",
     "text": [
      "22/11/24 13:45:05 WARN NativeCodeLoader: Unable to load native-hadoop library for your platform... using builtin-java classes where applicable\n"
     ]
    }
   ],
   "source": [
    "sc = SparkContext(master='local[2]')"
   ]
  },
  {
   "cell_type": "code",
   "execution_count": 3,
   "id": "6fd6e13e",
   "metadata": {},
   "outputs": [
    {
     "data": {
      "text/html": [
       "\n",
       "        <div>\n",
       "            <p><b>SparkContext</b></p>\n",
       "\n",
       "            <p><a href=\"http://192.168.40.20:4040\">Spark UI</a></p>\n",
       "\n",
       "            <dl>\n",
       "              <dt>Version</dt>\n",
       "                <dd><code>v3.3.1</code></dd>\n",
       "              <dt>Master</dt>\n",
       "                <dd><code>local[2]</code></dd>\n",
       "              <dt>AppName</dt>\n",
       "                <dd><code>pyspark-shell</code></dd>\n",
       "            </dl>\n",
       "        </div>\n",
       "        "
      ],
      "text/plain": [
       "<SparkContext master=local[2] appName=pyspark-shell>"
      ]
     },
     "execution_count": 3,
     "metadata": {},
     "output_type": "execute_result"
    }
   ],
   "source": [
    "sc"
   ]
  },
  {
   "cell_type": "code",
   "execution_count": 4,
   "id": "8f1ffdd2",
   "metadata": {},
   "outputs": [],
   "source": [
    "# Load Pkgs \n",
    "from pyspark.sql import SparkSession"
   ]
  },
  {
   "cell_type": "code",
   "execution_count": 5,
   "id": "822a896b",
   "metadata": {},
   "outputs": [],
   "source": [
    "# Spark\n",
    "spark = SparkSession.builder.appName(\"EmotionClassifierwithSpark\").getOrCreate()"
   ]
  },
  {
   "cell_type": "code",
   "execution_count": 6,
   "id": "1fb2cc8f",
   "metadata": {},
   "outputs": [],
   "source": [
    "# Load our dataset\n",
    "df = spark.read.csv(\"data/emotion_dataset_raw.csv\",header=True,inferSchema=True)\n"
   ]
  },
  {
   "cell_type": "code",
   "execution_count": 7,
   "id": "c6ec373c",
   "metadata": {},
   "outputs": [
    {
     "name": "stdout",
     "output_type": "stream",
     "text": [
      "+--------+--------------------+\n",
      "| Emotion|                Text|\n",
      "+--------+--------------------+\n",
      "| neutral|              Why ? |\n",
      "|     joy|Sage Act upgrade ...|\n",
      "| sadness|ON THE WAY TO MY ...|\n",
      "|     joy| Such an eye ! Th...|\n",
      "|     joy|@Iluvmiasantos ug...|\n",
      "|    fear|I'm expecting an ...|\n",
      "| sadness| .Couldnt wait to...|\n",
      "|surprise|maken Tip 2: Stop...|\n",
      "|surprise|En dan krijg je f...|\n",
      "|surprise| @1116am Drummer ...|\n",
      "|   anger|\"The bull tossed ...|\n",
      "| sadness|People hide their...|\n",
      "|     joy|For once in his l...|\n",
      "|    fear|Against the assau...|\n",
      "|   anger| With everything ...|\n",
      "| sadness|Shakuhachi dress ...|\n",
      "|surprise|Haha of course I ...|\n",
      "|     joy|I have a feeling ...|\n",
      "|     joy| Good.Let ' s go ...|\n",
      "|surprise|@JuliaLeader I re...|\n",
      "+--------+--------------------+\n",
      "only showing top 20 rows\n",
      "\n"
     ]
    }
   ],
   "source": [
    "df.show()"
   ]
  },
  {
   "cell_type": "code",
   "execution_count": 8,
   "id": "5515f438",
   "metadata": {},
   "outputs": [
    {
     "name": "stdout",
     "output_type": "stream",
     "text": [
      "['Emotion', 'Text']\n"
     ]
    }
   ],
   "source": [
    "# check for columns\n",
    "print(df.columns)"
   ]
  },
  {
   "cell_type": "code",
   "execution_count": 9,
   "id": "9477efcc",
   "metadata": {},
   "outputs": [
    {
     "data": {
      "text/plain": [
       "[('Emotion', 'string'), ('Text', 'string')]"
      ]
     },
     "execution_count": 9,
     "metadata": {},
     "output_type": "execute_result"
    }
   ],
   "source": [
    "# Check for datatypes\n",
    "# Before InferSchema=True\n",
    "df.dtypes"
   ]
  },
  {
   "cell_type": "code",
   "execution_count": 10,
   "id": "12bb15ef",
   "metadata": {},
   "outputs": [
    {
     "name": "stdout",
     "output_type": "stream",
     "text": [
      "root\n",
      " |-- Emotion: string (nullable = true)\n",
      " |-- Text: string (nullable = true)\n",
      "\n"
     ]
    }
   ],
   "source": [
    "# Check for the Schema\n",
    "df.printSchema()"
   ]
  },
  {
   "cell_type": "code",
   "execution_count": 11,
   "id": "06745cda",
   "metadata": {},
   "outputs": [
    {
     "name": "stderr",
     "output_type": "stream",
     "text": [
      "\r",
      "[Stage 3:>                                                          (0 + 1) / 1]\r"
     ]
    },
    {
     "name": "stdout",
     "output_type": "stream",
     "text": [
      "+-------+--------+--------------------+\n",
      "|summary| Emotion|                Text|\n",
      "+-------+--------+--------------------+\n",
      "|  count|   34792|               34792|\n",
      "|   mean|    null|                12.0|\n",
      "| stddev|    null|                null|\n",
      "|    min|   anger|     !!!1!  Merry...|\n",
      "|    max|surprise| RT “@jamiedorsc...|\n",
      "+-------+--------+--------------------+\n",
      "\n",
      "None\n"
     ]
    },
    {
     "name": "stderr",
     "output_type": "stream",
     "text": [
      "\r",
      "                                                                                \r"
     ]
    }
   ],
   "source": [
    "# Descriptive summary\n",
    "print(df.describe().show())"
   ]
  },
  {
   "cell_type": "code",
   "execution_count": 13,
   "id": "da37e2e6",
   "metadata": {},
   "outputs": [
    {
     "name": "stdout",
     "output_type": "stream",
     "text": [
      "+--------+-----+\n",
      "| Emotion|count|\n",
      "+--------+-----+\n",
      "|   shame|  146|\n",
      "|     joy|11045|\n",
      "| neutral| 2254|\n",
      "|   anger| 4297|\n",
      "|    fear| 5410|\n",
      "|surprise| 4062|\n",
      "| sadness| 6722|\n",
      "| disgust|  856|\n",
      "+--------+-----+\n",
      "\n"
     ]
    }
   ],
   "source": [
    "# Value Count \n",
    "df.groupBy('Emotion').count().show()"
   ]
  },
  {
   "cell_type": "markdown",
   "id": "27888359",
   "metadata": {},
   "source": [
    "## Feature Engineering"
   ]
  },
  {
   "cell_type": "code",
   "execution_count": 14,
   "id": "7f00891b",
   "metadata": {},
   "outputs": [],
   "source": [
    "import pyspark.ml"
   ]
  },
  {
   "cell_type": "code",
   "execution_count": 15,
   "id": "85b3720a",
   "metadata": {},
   "outputs": [
    {
     "data": {
      "text/plain": [
       "['Estimator',\n",
       " 'Model',\n",
       " 'Pipeline',\n",
       " 'PipelineModel',\n",
       " 'PredictionModel',\n",
       " 'Predictor',\n",
       " 'Transformer',\n",
       " 'UnaryTransformer',\n",
       " '__all__',\n",
       " '__builtins__',\n",
       " '__cached__',\n",
       " '__doc__',\n",
       " '__file__',\n",
       " '__loader__',\n",
       " '__name__',\n",
       " '__package__',\n",
       " '__path__',\n",
       " '__spec__',\n",
       " 'base',\n",
       " 'classification',\n",
       " 'clustering',\n",
       " 'common',\n",
       " 'evaluation',\n",
       " 'feature',\n",
       " 'fpm',\n",
       " 'image',\n",
       " 'linalg',\n",
       " 'param',\n",
       " 'pipeline',\n",
       " 'recommendation',\n",
       " 'regression',\n",
       " 'stat',\n",
       " 'tree',\n",
       " 'tuning',\n",
       " 'util',\n",
       " 'wrapper']"
      ]
     },
     "execution_count": 15,
     "metadata": {},
     "output_type": "execute_result"
    }
   ],
   "source": [
    "dir(pyspark.ml)"
   ]
  },
  {
   "cell_type": "code",
   "execution_count": 17,
   "id": "edbb5cce",
   "metadata": {},
   "outputs": [],
   "source": [
    "import pyspark.ml.feature"
   ]
  },
  {
   "cell_type": "code",
   "execution_count": 18,
   "id": "13bd48cf",
   "metadata": {},
   "outputs": [
    {
     "data": {
      "text/plain": [
       "['Any',\n",
       " 'Binarizer',\n",
       " 'BucketedRandomProjectionLSH',\n",
       " 'BucketedRandomProjectionLSHModel',\n",
       " 'Bucketizer',\n",
       " 'ChiSqSelector',\n",
       " 'ChiSqSelectorModel',\n",
       " 'CountVectorizer',\n",
       " 'CountVectorizerModel',\n",
       " 'DCT',\n",
       " 'DataFrame',\n",
       " 'DenseMatrix',\n",
       " 'DenseVector',\n",
       " 'Dict',\n",
       " 'ElementwiseProduct',\n",
       " 'FeatureHasher',\n",
       " 'Generic',\n",
       " 'HasFeaturesCol',\n",
       " 'HasHandleInvalid',\n",
       " 'HasInputCol',\n",
       " 'HasInputCols',\n",
       " 'HasLabelCol',\n",
       " 'HasMaxIter',\n",
       " 'HasNumFeatures',\n",
       " 'HasOutputCol',\n",
       " 'HasOutputCols',\n",
       " 'HasRelativeError',\n",
       " 'HasSeed',\n",
       " 'HasStepSize',\n",
       " 'HasThreshold',\n",
       " 'HasThresholds',\n",
       " 'HashingTF',\n",
       " 'IDF',\n",
       " 'IDFModel',\n",
       " 'Imputer',\n",
       " 'ImputerModel',\n",
       " 'IndexToString',\n",
       " 'Interaction',\n",
       " 'JM',\n",
       " 'JavaEstimator',\n",
       " 'JavaMLReadable',\n",
       " 'JavaMLWritable',\n",
       " 'JavaModel',\n",
       " 'JavaParams',\n",
       " 'JavaTransformer',\n",
       " 'List',\n",
       " 'MaxAbsScaler',\n",
       " 'MaxAbsScalerModel',\n",
       " 'MinHashLSH',\n",
       " 'MinHashLSHModel',\n",
       " 'MinMaxScaler',\n",
       " 'MinMaxScalerModel',\n",
       " 'NGram',\n",
       " 'Normalizer',\n",
       " 'OneHotEncoder',\n",
       " 'OneHotEncoderModel',\n",
       " 'Optional',\n",
       " 'P',\n",
       " 'PCA',\n",
       " 'PCAModel',\n",
       " 'Param',\n",
       " 'Params',\n",
       " 'PolynomialExpansion',\n",
       " 'QuantileDiscretizer',\n",
       " 'RFormula',\n",
       " 'RFormulaModel',\n",
       " 'RegexTokenizer',\n",
       " 'RobustScaler',\n",
       " 'RobustScalerModel',\n",
       " 'SQLTransformer',\n",
       " 'SparkContext',\n",
       " 'StandardScaler',\n",
       " 'StandardScalerModel',\n",
       " 'StopWordsRemover',\n",
       " 'StringIndexer',\n",
       " 'StringIndexerModel',\n",
       " 'TYPE_CHECKING',\n",
       " 'Tokenizer',\n",
       " 'Tuple',\n",
       " 'TypeConverters',\n",
       " 'TypeVar',\n",
       " 'Union',\n",
       " 'UnivariateFeatureSelector',\n",
       " 'UnivariateFeatureSelectorModel',\n",
       " 'VarianceThresholdSelector',\n",
       " 'VarianceThresholdSelectorModel',\n",
       " 'Vector',\n",
       " 'VectorAssembler',\n",
       " 'VectorIndexer',\n",
       " 'VectorIndexerModel',\n",
       " 'VectorSizeHint',\n",
       " 'VectorSlicer',\n",
       " 'Word2Vec',\n",
       " 'Word2VecModel',\n",
       " '_BucketedRandomProjectionLSHParams',\n",
       " '_CountVectorizerParams',\n",
       " '_IDFParams',\n",
       " '_ImputerParams',\n",
       " '_LSH',\n",
       " '_LSHModel',\n",
       " '_LSHParams',\n",
       " '_MaxAbsScalerParams',\n",
       " '_MinMaxScalerParams',\n",
       " '_OneHotEncoderParams',\n",
       " '_PCAParams',\n",
       " '_RFormulaParams',\n",
       " '_RobustScalerParams',\n",
       " '_Selector',\n",
       " '_SelectorModel',\n",
       " '_SelectorParams',\n",
       " '_StandardScalerParams',\n",
       " '_StringIndexerParams',\n",
       " '_UnivariateFeatureSelectorParams',\n",
       " '_VarianceThresholdSelectorParams',\n",
       " '_VectorIndexerParams',\n",
       " '_Word2VecParams',\n",
       " '__all__',\n",
       " '__builtins__',\n",
       " '__cached__',\n",
       " '__doc__',\n",
       " '__file__',\n",
       " '__loader__',\n",
       " '__name__',\n",
       " '__package__',\n",
       " '__spec__',\n",
       " '_convert_to_vector',\n",
       " '_jvm',\n",
       " 'cast',\n",
       " 'inherit_doc',\n",
       " 'keyword_only',\n",
       " 'overload',\n",
       " 'since']"
      ]
     },
     "execution_count": 18,
     "metadata": {},
     "output_type": "execute_result"
    }
   ],
   "source": [
    "dir(pyspark.ml.feature)"
   ]
  },
  {
   "cell_type": "code",
   "execution_count": 20,
   "id": "7b0dc73a",
   "metadata": {},
   "outputs": [],
   "source": [
    "from pyspark.ml.feature import Tokenizer, StopWordsRemover, CountVectorizer, IDF\n",
    "from pyspark.ml.feature import StringIndexer"
   ]
  },
  {
   "cell_type": "code",
   "execution_count": 24,
   "id": "524092b0",
   "metadata": {},
   "outputs": [],
   "source": [
    "#Differen Stages For the pipline\n",
    "tokenizer = Tokenizer(inputCol='Text', outputCol='token_text')\n"
   ]
  },
  {
   "cell_type": "code",
   "execution_count": 25,
   "id": "099eb5ea",
   "metadata": {},
   "outputs": [],
   "source": [
    "stopwords_remover = StopWordsRemover(inputCol='token_text',outputCol='filter_token')\n",
    "vectorizer = CountVectorizer(inputCol='filter_token',outputCol='raw_Features')\n",
    "idf = IDF(inputCol='raw_Features',outputCol='vectorized_Features')"
   ]
  },
  {
   "cell_type": "code",
   "execution_count": 26,
   "id": "033d84c6",
   "metadata": {},
   "outputs": [],
   "source": [
    "# LabelEncoding/LabelIndexing\n",
    "labelEncoder = StringIndexer(inputCol='Emotion',outputCol='label').fit(df)"
   ]
  },
  {
   "cell_type": "code",
   "execution_count": 27,
   "id": "e0932faf",
   "metadata": {},
   "outputs": [
    {
     "name": "stdout",
     "output_type": "stream",
     "text": [
      "+-------+--------------------+-----+\n",
      "|Emotion|                Text|label|\n",
      "+-------+--------------------+-----+\n",
      "|neutral|              Why ? |  5.0|\n",
      "|    joy|Sage Act upgrade ...|  0.0|\n",
      "|sadness|ON THE WAY TO MY ...|  1.0|\n",
      "|    joy| Such an eye ! Th...|  0.0|\n",
      "|    joy|@Iluvmiasantos ug...|  0.0|\n",
      "+-------+--------------------+-----+\n",
      "only showing top 5 rows\n",
      "\n"
     ]
    }
   ],
   "source": [
    "labelEncoder.transform(df).show(5)"
   ]
  },
  {
   "cell_type": "code",
   "execution_count": 28,
   "id": "f5591302",
   "metadata": {},
   "outputs": [
    {
     "data": {
      "text/plain": [
       "['joy', 'sadness', 'fear', 'anger', 'surprise', 'neutral', 'disgust', 'shame']"
      ]
     },
     "execution_count": 28,
     "metadata": {},
     "output_type": "execute_result"
    }
   ],
   "source": [
    "labelEncoder.labels"
   ]
  },
  {
   "cell_type": "code",
   "execution_count": 29,
   "id": "b5d1da76",
   "metadata": {},
   "outputs": [
    {
     "name": "stdout",
     "output_type": "stream",
     "text": [
      "+-------+--------------------+-----+\n",
      "|Emotion|                Text|label|\n",
      "+-------+--------------------+-----+\n",
      "|neutral|              Why ? |  5.0|\n",
      "|    joy|Sage Act upgrade ...|  0.0|\n",
      "|sadness|ON THE WAY TO MY ...|  1.0|\n",
      "|    joy| Such an eye ! Th...|  0.0|\n",
      "|    joy|@Iluvmiasantos ug...|  0.0|\n",
      "+-------+--------------------+-----+\n",
      "only showing top 5 rows\n",
      "\n"
     ]
    }
   ],
   "source": [
    "df = labelEncoder.transform(df)\n",
    "df.show(5)"
   ]
  },
  {
   "cell_type": "markdown",
   "id": "f8264a68",
   "metadata": {},
   "source": [
    "## Train_Test Split"
   ]
  },
  {
   "cell_type": "code",
   "execution_count": 30,
   "id": "892453fd",
   "metadata": {},
   "outputs": [],
   "source": [
    "### Split Dataset\n",
    "(train,test) = df.randomSplit((0.7,0.3),seed=42)"
   ]
  },
  {
   "cell_type": "code",
   "execution_count": 32,
   "id": "e4c9d9ad",
   "metadata": {},
   "outputs": [
    {
     "name": "stdout",
     "output_type": "stream",
     "text": [
      "+-------+--------------------+-----+\n",
      "|Emotion|                Text|label|\n",
      "+-------+--------------------+-----+\n",
      "|  anger|   #SAD #LONELY a...|  3.0|\n",
      "|  anger|  in , i hate exa...|  3.0|\n",
      "|  anger| &quot;If you are...|  3.0|\n",
      "|  anger| --&gt; Don't EVE...|  3.0|\n",
      "|  anger| 20 to 1 , in fav...|  3.0|\n",
      "+-------+--------------------+-----+\n",
      "only showing top 5 rows\n",
      "\n"
     ]
    }
   ],
   "source": [
    "train.show(5)"
   ]
  },
  {
   "cell_type": "markdown",
   "id": "98f26cb6",
   "metadata": {},
   "source": [
    "### Train Data Counts"
   ]
  },
  {
   "cell_type": "code",
   "execution_count": 33,
   "id": "c95b2239",
   "metadata": {},
   "outputs": [
    {
     "name": "stdout",
     "output_type": "stream",
     "text": [
      "+--------+-----+\n",
      "| Emotion|count|\n",
      "+--------+-----+\n",
      "|   shame|  109|\n",
      "|     joy| 7712|\n",
      "| neutral| 1541|\n",
      "|   anger| 3075|\n",
      "|    fear| 3821|\n",
      "|surprise| 2860|\n",
      "| sadness| 4723|\n",
      "| disgust|  596|\n",
      "+--------+-----+\n",
      "\n"
     ]
    }
   ],
   "source": [
    "# Value Count \n",
    "train.groupBy('Emotion').count().show()"
   ]
  },
  {
   "cell_type": "markdown",
   "id": "34cf3a98",
   "metadata": {},
   "source": [
    "### Test Data Counts"
   ]
  },
  {
   "cell_type": "code",
   "execution_count": 34,
   "id": "722643ef",
   "metadata": {},
   "outputs": [
    {
     "name": "stdout",
     "output_type": "stream",
     "text": [
      "+--------+-----+\n",
      "| Emotion|count|\n",
      "+--------+-----+\n",
      "|   shame|   37|\n",
      "|     joy| 3333|\n",
      "| neutral|  713|\n",
      "|   anger| 1222|\n",
      "|    fear| 1589|\n",
      "|surprise| 1202|\n",
      "| sadness| 1999|\n",
      "| disgust|  260|\n",
      "+--------+-----+\n",
      "\n"
     ]
    }
   ],
   "source": [
    "# Value Count \n",
    "test.groupBy('Emotion').count().show()"
   ]
  },
  {
   "cell_type": "markdown",
   "id": "254b5bae",
   "metadata": {},
   "source": [
    "### Estimator "
   ]
  },
  {
   "cell_type": "code",
   "execution_count": 35,
   "id": "3448189a",
   "metadata": {},
   "outputs": [],
   "source": [
    "### Estimator\n",
    "from pyspark.ml.classification import LogisticRegression"
   ]
  },
  {
   "cell_type": "code",
   "execution_count": 37,
   "id": "e3aeefdc",
   "metadata": {},
   "outputs": [],
   "source": [
    "# Vectorized features are coming from the last line of Pipelines above.\n",
    "lr = LogisticRegression(featuresCol='vectorized_Features',labelCol='label')"
   ]
  },
  {
   "cell_type": "markdown",
   "id": "773c5c84",
   "metadata": {},
   "source": [
    "## Building a Pipeline"
   ]
  },
  {
   "cell_type": "code",
   "execution_count": 38,
   "id": "48c3db42",
   "metadata": {},
   "outputs": [],
   "source": [
    "from pyspark.ml import Pipeline"
   ]
  },
  {
   "cell_type": "code",
   "execution_count": 39,
   "id": "5558456d",
   "metadata": {},
   "outputs": [],
   "source": [
    "pipeline = Pipeline(stages=[tokenizer,stopwords_remover,vectorizer,idf,lr])"
   ]
  },
  {
   "cell_type": "code",
   "execution_count": 40,
   "id": "074be6d7",
   "metadata": {},
   "outputs": [
    {
     "data": {
      "text/plain": [
       "Param(parent='Pipeline_a22fea0c74ca', name='stages', doc='a list of pipeline stages')"
      ]
     },
     "execution_count": 40,
     "metadata": {},
     "output_type": "execute_result"
    }
   ],
   "source": [
    "pipeline.stages"
   ]
  },
  {
   "cell_type": "markdown",
   "id": "c289a231",
   "metadata": {},
   "source": [
    "# Model Building"
   ]
  },
  {
   "cell_type": "code",
   "execution_count": 41,
   "id": "163772d8",
   "metadata": {},
   "outputs": [
    {
     "name": "stderr",
     "output_type": "stream",
     "text": [
      "                                                                                \r"
     ]
    },
    {
     "name": "stdout",
     "output_type": "stream",
     "text": [
      "22/11/24 14:43:44 WARN DAGScheduler: Broadcasting large task binary with size 1260.9 KiB\n"
     ]
    },
    {
     "name": "stderr",
     "output_type": "stream",
     "text": [
      "                                                                                \r"
     ]
    },
    {
     "name": "stdout",
     "output_type": "stream",
     "text": [
      "22/11/24 14:43:45 WARN InstanceBuilder$JavaBLAS: Failed to load implementation from:dev.ludovic.netlib.blas.VectorBLAS\n",
      "22/11/24 14:43:45 WARN DAGScheduler: Broadcasting large task binary with size 1262.5 KiB\n"
     ]
    },
    {
     "name": "stderr",
     "output_type": "stream",
     "text": [
      "\r",
      "[Stage 32:>                                                         (0 + 1) / 1]\r"
     ]
    },
    {
     "name": "stdout",
     "output_type": "stream",
     "text": [
      "22/11/24 14:43:46 WARN InstanceBuilder$NativeBLAS: Failed to load implementation from:dev.ludovic.netlib.blas.JNIBLAS\n",
      "22/11/24 14:43:46 WARN InstanceBuilder$NativeBLAS: Failed to load implementation from:dev.ludovic.netlib.blas.ForeignLinkerBLAS\n"
     ]
    },
    {
     "name": "stderr",
     "output_type": "stream",
     "text": [
      "\r",
      "                                                                                \r"
     ]
    },
    {
     "name": "stdout",
     "output_type": "stream",
     "text": [
      "22/11/24 14:43:51 WARN BLAS: Failed to load implementation from: com.github.fommil.netlib.NativeSystemBLAS\n",
      "22/11/24 14:43:51 WARN BLAS: Failed to load implementation from: com.github.fommil.netlib.NativeRefBLAS\n",
      "22/11/24 14:43:51 WARN DAGScheduler: Broadcasting large task binary with size 1262.5 KiB\n"
     ]
    },
    {
     "name": "stderr",
     "output_type": "stream",
     "text": [
      "                                                                                \r"
     ]
    },
    {
     "name": "stdout",
     "output_type": "stream",
     "text": [
      "22/11/24 14:43:56 WARN DAGScheduler: Broadcasting large task binary with size 1262.5 KiB\n"
     ]
    },
    {
     "name": "stderr",
     "output_type": "stream",
     "text": [
      "                                                                                \r"
     ]
    },
    {
     "name": "stdout",
     "output_type": "stream",
     "text": [
      "22/11/24 14:44:01 WARN DAGScheduler: Broadcasting large task binary with size 1262.5 KiB\n"
     ]
    },
    {
     "name": "stderr",
     "output_type": "stream",
     "text": [
      "                                                                                \r"
     ]
    },
    {
     "name": "stdout",
     "output_type": "stream",
     "text": [
      "22/11/24 14:44:06 WARN DAGScheduler: Broadcasting large task binary with size 1262.5 KiB\n"
     ]
    },
    {
     "name": "stderr",
     "output_type": "stream",
     "text": [
      "                                                                                \r"
     ]
    },
    {
     "name": "stdout",
     "output_type": "stream",
     "text": [
      "22/11/24 14:44:12 WARN DAGScheduler: Broadcasting large task binary with size 1262.5 KiB\n"
     ]
    },
    {
     "name": "stderr",
     "output_type": "stream",
     "text": [
      "                                                                                \r"
     ]
    },
    {
     "name": "stdout",
     "output_type": "stream",
     "text": [
      "22/11/24 14:44:17 WARN DAGScheduler: Broadcasting large task binary with size 1262.5 KiB\n"
     ]
    },
    {
     "name": "stderr",
     "output_type": "stream",
     "text": [
      "                                                                                \r"
     ]
    },
    {
     "name": "stdout",
     "output_type": "stream",
     "text": [
      "22/11/24 14:44:22 WARN DAGScheduler: Broadcasting large task binary with size 1262.5 KiB\n"
     ]
    },
    {
     "name": "stderr",
     "output_type": "stream",
     "text": [
      "                                                                                \r"
     ]
    },
    {
     "name": "stdout",
     "output_type": "stream",
     "text": [
      "22/11/24 14:44:27 WARN DAGScheduler: Broadcasting large task binary with size 1262.5 KiB\n"
     ]
    },
    {
     "name": "stderr",
     "output_type": "stream",
     "text": [
      "                                                                                \r"
     ]
    },
    {
     "name": "stdout",
     "output_type": "stream",
     "text": [
      "22/11/24 14:44:32 WARN DAGScheduler: Broadcasting large task binary with size 1262.5 KiB\n"
     ]
    },
    {
     "name": "stderr",
     "output_type": "stream",
     "text": [
      "                                                                                \r"
     ]
    },
    {
     "name": "stdout",
     "output_type": "stream",
     "text": [
      "22/11/24 14:44:37 WARN DAGScheduler: Broadcasting large task binary with size 1262.5 KiB\n"
     ]
    },
    {
     "name": "stderr",
     "output_type": "stream",
     "text": [
      "                                                                                \r"
     ]
    },
    {
     "name": "stdout",
     "output_type": "stream",
     "text": [
      "22/11/24 14:44:43 WARN DAGScheduler: Broadcasting large task binary with size 1262.5 KiB\n"
     ]
    },
    {
     "name": "stderr",
     "output_type": "stream",
     "text": [
      "                                                                                \r"
     ]
    },
    {
     "name": "stdout",
     "output_type": "stream",
     "text": [
      "22/11/24 14:44:48 WARN DAGScheduler: Broadcasting large task binary with size 1262.5 KiB\n"
     ]
    },
    {
     "name": "stderr",
     "output_type": "stream",
     "text": [
      "                                                                                \r"
     ]
    },
    {
     "name": "stdout",
     "output_type": "stream",
     "text": [
      "22/11/24 14:44:54 WARN DAGScheduler: Broadcasting large task binary with size 1262.5 KiB\n"
     ]
    },
    {
     "name": "stderr",
     "output_type": "stream",
     "text": [
      "                                                                                \r"
     ]
    },
    {
     "name": "stdout",
     "output_type": "stream",
     "text": [
      "22/11/24 14:44:59 WARN DAGScheduler: Broadcasting large task binary with size 1262.5 KiB\n"
     ]
    },
    {
     "name": "stderr",
     "output_type": "stream",
     "text": [
      "                                                                                \r"
     ]
    },
    {
     "name": "stdout",
     "output_type": "stream",
     "text": [
      "22/11/24 14:45:04 WARN DAGScheduler: Broadcasting large task binary with size 1262.5 KiB\n"
     ]
    },
    {
     "name": "stderr",
     "output_type": "stream",
     "text": [
      "                                                                                \r"
     ]
    },
    {
     "name": "stdout",
     "output_type": "stream",
     "text": [
      "22/11/24 14:45:10 WARN DAGScheduler: Broadcasting large task binary with size 1262.5 KiB\n"
     ]
    },
    {
     "name": "stderr",
     "output_type": "stream",
     "text": [
      "                                                                                \r"
     ]
    },
    {
     "name": "stdout",
     "output_type": "stream",
     "text": [
      "22/11/24 14:45:15 WARN DAGScheduler: Broadcasting large task binary with size 1262.5 KiB\n"
     ]
    },
    {
     "name": "stderr",
     "output_type": "stream",
     "text": [
      "                                                                                \r"
     ]
    },
    {
     "name": "stdout",
     "output_type": "stream",
     "text": [
      "22/11/24 14:45:20 WARN DAGScheduler: Broadcasting large task binary with size 1262.5 KiB\n"
     ]
    },
    {
     "name": "stderr",
     "output_type": "stream",
     "text": [
      "                                                                                \r"
     ]
    },
    {
     "name": "stdout",
     "output_type": "stream",
     "text": [
      "22/11/24 14:45:26 WARN DAGScheduler: Broadcasting large task binary with size 1262.5 KiB\n"
     ]
    },
    {
     "name": "stderr",
     "output_type": "stream",
     "text": [
      "                                                                                \r"
     ]
    },
    {
     "name": "stdout",
     "output_type": "stream",
     "text": [
      "22/11/24 14:45:31 WARN DAGScheduler: Broadcasting large task binary with size 1262.5 KiB\n"
     ]
    },
    {
     "name": "stderr",
     "output_type": "stream",
     "text": [
      "                                                                                \r"
     ]
    },
    {
     "name": "stdout",
     "output_type": "stream",
     "text": [
      "22/11/24 14:45:36 WARN DAGScheduler: Broadcasting large task binary with size 1262.5 KiB\n"
     ]
    },
    {
     "name": "stderr",
     "output_type": "stream",
     "text": [
      "                                                                                \r"
     ]
    },
    {
     "name": "stdout",
     "output_type": "stream",
     "text": [
      "22/11/24 14:45:42 WARN DAGScheduler: Broadcasting large task binary with size 1262.5 KiB\n"
     ]
    },
    {
     "name": "stderr",
     "output_type": "stream",
     "text": [
      "                                                                                \r"
     ]
    },
    {
     "name": "stdout",
     "output_type": "stream",
     "text": [
      "22/11/24 14:45:47 WARN DAGScheduler: Broadcasting large task binary with size 1262.5 KiB\n"
     ]
    },
    {
     "name": "stderr",
     "output_type": "stream",
     "text": [
      "                                                                                \r"
     ]
    },
    {
     "name": "stdout",
     "output_type": "stream",
     "text": [
      "22/11/24 14:45:53 WARN DAGScheduler: Broadcasting large task binary with size 1262.5 KiB\n"
     ]
    },
    {
     "name": "stderr",
     "output_type": "stream",
     "text": [
      "                                                                                \r"
     ]
    },
    {
     "name": "stdout",
     "output_type": "stream",
     "text": [
      "22/11/24 14:45:59 WARN DAGScheduler: Broadcasting large task binary with size 1262.5 KiB\n"
     ]
    },
    {
     "name": "stderr",
     "output_type": "stream",
     "text": [
      "                                                                                \r"
     ]
    },
    {
     "name": "stdout",
     "output_type": "stream",
     "text": [
      "22/11/24 14:46:04 WARN DAGScheduler: Broadcasting large task binary with size 1262.5 KiB\n"
     ]
    },
    {
     "name": "stderr",
     "output_type": "stream",
     "text": [
      "                                                                                \r"
     ]
    },
    {
     "name": "stdout",
     "output_type": "stream",
     "text": [
      "22/11/24 14:46:09 WARN DAGScheduler: Broadcasting large task binary with size 1262.5 KiB\n"
     ]
    },
    {
     "name": "stderr",
     "output_type": "stream",
     "text": [
      "                                                                                \r"
     ]
    },
    {
     "name": "stdout",
     "output_type": "stream",
     "text": [
      "22/11/24 14:46:15 WARN DAGScheduler: Broadcasting large task binary with size 1262.5 KiB\n"
     ]
    },
    {
     "name": "stderr",
     "output_type": "stream",
     "text": [
      "                                                                                \r"
     ]
    },
    {
     "name": "stdout",
     "output_type": "stream",
     "text": [
      "22/11/24 14:46:20 WARN DAGScheduler: Broadcasting large task binary with size 1262.5 KiB\n"
     ]
    },
    {
     "name": "stderr",
     "output_type": "stream",
     "text": [
      "                                                                                \r"
     ]
    },
    {
     "name": "stdout",
     "output_type": "stream",
     "text": [
      "22/11/24 14:46:25 WARN DAGScheduler: Broadcasting large task binary with size 1262.5 KiB\n"
     ]
    },
    {
     "name": "stderr",
     "output_type": "stream",
     "text": [
      "                                                                                \r"
     ]
    },
    {
     "name": "stdout",
     "output_type": "stream",
     "text": [
      "22/11/24 14:46:31 WARN DAGScheduler: Broadcasting large task binary with size 1262.5 KiB\n"
     ]
    },
    {
     "name": "stderr",
     "output_type": "stream",
     "text": [
      "                                                                                \r"
     ]
    },
    {
     "name": "stdout",
     "output_type": "stream",
     "text": [
      "22/11/24 14:46:36 WARN DAGScheduler: Broadcasting large task binary with size 1262.5 KiB\n"
     ]
    },
    {
     "name": "stderr",
     "output_type": "stream",
     "text": [
      "                                                                                \r"
     ]
    },
    {
     "name": "stdout",
     "output_type": "stream",
     "text": [
      "22/11/24 14:46:41 WARN DAGScheduler: Broadcasting large task binary with size 1262.5 KiB\n"
     ]
    },
    {
     "name": "stderr",
     "output_type": "stream",
     "text": [
      "                                                                                \r"
     ]
    },
    {
     "name": "stdout",
     "output_type": "stream",
     "text": [
      "22/11/24 14:46:47 WARN DAGScheduler: Broadcasting large task binary with size 1262.5 KiB\n"
     ]
    },
    {
     "name": "stderr",
     "output_type": "stream",
     "text": [
      "                                                                                \r"
     ]
    },
    {
     "name": "stdout",
     "output_type": "stream",
     "text": [
      "22/11/24 14:46:53 WARN DAGScheduler: Broadcasting large task binary with size 1262.5 KiB\n"
     ]
    },
    {
     "name": "stderr",
     "output_type": "stream",
     "text": [
      "                                                                                \r"
     ]
    },
    {
     "name": "stdout",
     "output_type": "stream",
     "text": [
      "22/11/24 14:46:58 WARN DAGScheduler: Broadcasting large task binary with size 1262.5 KiB\n"
     ]
    },
    {
     "name": "stderr",
     "output_type": "stream",
     "text": [
      "                                                                                \r"
     ]
    },
    {
     "name": "stdout",
     "output_type": "stream",
     "text": [
      "22/11/24 14:47:03 WARN DAGScheduler: Broadcasting large task binary with size 1262.5 KiB\n"
     ]
    },
    {
     "name": "stderr",
     "output_type": "stream",
     "text": [
      "                                                                                \r"
     ]
    },
    {
     "name": "stdout",
     "output_type": "stream",
     "text": [
      "22/11/24 14:47:09 WARN DAGScheduler: Broadcasting large task binary with size 1262.5 KiB\n"
     ]
    },
    {
     "name": "stderr",
     "output_type": "stream",
     "text": [
      "                                                                                \r"
     ]
    },
    {
     "name": "stdout",
     "output_type": "stream",
     "text": [
      "22/11/24 14:47:14 WARN DAGScheduler: Broadcasting large task binary with size 1262.5 KiB\n"
     ]
    },
    {
     "name": "stderr",
     "output_type": "stream",
     "text": [
      "                                                                                \r"
     ]
    },
    {
     "name": "stdout",
     "output_type": "stream",
     "text": [
      "22/11/24 14:47:19 WARN DAGScheduler: Broadcasting large task binary with size 1262.5 KiB\n"
     ]
    },
    {
     "name": "stderr",
     "output_type": "stream",
     "text": [
      "                                                                                \r"
     ]
    },
    {
     "name": "stdout",
     "output_type": "stream",
     "text": [
      "22/11/24 14:47:25 WARN DAGScheduler: Broadcasting large task binary with size 1262.5 KiB\n"
     ]
    },
    {
     "name": "stderr",
     "output_type": "stream",
     "text": [
      "                                                                                \r"
     ]
    },
    {
     "name": "stdout",
     "output_type": "stream",
     "text": [
      "22/11/24 14:47:30 WARN DAGScheduler: Broadcasting large task binary with size 1262.5 KiB\n"
     ]
    },
    {
     "name": "stderr",
     "output_type": "stream",
     "text": [
      "                                                                                \r"
     ]
    },
    {
     "name": "stdout",
     "output_type": "stream",
     "text": [
      "22/11/24 14:47:36 WARN DAGScheduler: Broadcasting large task binary with size 1262.5 KiB\n"
     ]
    },
    {
     "name": "stderr",
     "output_type": "stream",
     "text": [
      "                                                                                \r"
     ]
    },
    {
     "name": "stdout",
     "output_type": "stream",
     "text": [
      "22/11/24 14:47:41 WARN DAGScheduler: Broadcasting large task binary with size 1262.5 KiB\n"
     ]
    },
    {
     "name": "stderr",
     "output_type": "stream",
     "text": [
      "                                                                                \r"
     ]
    },
    {
     "name": "stdout",
     "output_type": "stream",
     "text": [
      "22/11/24 14:47:47 WARN DAGScheduler: Broadcasting large task binary with size 1262.5 KiB\n"
     ]
    },
    {
     "name": "stderr",
     "output_type": "stream",
     "text": [
      "                                                                                \r"
     ]
    },
    {
     "name": "stdout",
     "output_type": "stream",
     "text": [
      "22/11/24 14:47:52 WARN DAGScheduler: Broadcasting large task binary with size 1262.5 KiB\n"
     ]
    },
    {
     "name": "stderr",
     "output_type": "stream",
     "text": [
      "                                                                                \r"
     ]
    },
    {
     "name": "stdout",
     "output_type": "stream",
     "text": [
      "22/11/24 14:47:58 WARN DAGScheduler: Broadcasting large task binary with size 1262.5 KiB\n"
     ]
    },
    {
     "name": "stderr",
     "output_type": "stream",
     "text": [
      "                                                                                \r"
     ]
    },
    {
     "name": "stdout",
     "output_type": "stream",
     "text": [
      "22/11/24 14:48:03 WARN DAGScheduler: Broadcasting large task binary with size 1262.5 KiB\n"
     ]
    },
    {
     "name": "stderr",
     "output_type": "stream",
     "text": [
      "                                                                                \r"
     ]
    },
    {
     "name": "stdout",
     "output_type": "stream",
     "text": [
      "22/11/24 14:48:08 WARN DAGScheduler: Broadcasting large task binary with size 1262.5 KiB\n"
     ]
    },
    {
     "name": "stderr",
     "output_type": "stream",
     "text": [
      "                                                                                \r"
     ]
    },
    {
     "name": "stdout",
     "output_type": "stream",
     "text": [
      "22/11/24 14:48:14 WARN DAGScheduler: Broadcasting large task binary with size 1262.5 KiB\n"
     ]
    },
    {
     "name": "stderr",
     "output_type": "stream",
     "text": [
      "                                                                                \r"
     ]
    },
    {
     "name": "stdout",
     "output_type": "stream",
     "text": [
      "22/11/24 14:48:19 WARN DAGScheduler: Broadcasting large task binary with size 1262.5 KiB\n"
     ]
    },
    {
     "name": "stderr",
     "output_type": "stream",
     "text": [
      "                                                                                \r"
     ]
    },
    {
     "name": "stdout",
     "output_type": "stream",
     "text": [
      "22/11/24 14:48:25 WARN DAGScheduler: Broadcasting large task binary with size 1262.5 KiB\n"
     ]
    },
    {
     "name": "stderr",
     "output_type": "stream",
     "text": [
      "                                                                                \r"
     ]
    },
    {
     "name": "stdout",
     "output_type": "stream",
     "text": [
      "22/11/24 14:48:30 WARN DAGScheduler: Broadcasting large task binary with size 1262.5 KiB\n"
     ]
    },
    {
     "name": "stderr",
     "output_type": "stream",
     "text": [
      "                                                                                \r"
     ]
    },
    {
     "name": "stdout",
     "output_type": "stream",
     "text": [
      "22/11/24 14:48:36 WARN DAGScheduler: Broadcasting large task binary with size 1262.5 KiB\n"
     ]
    },
    {
     "name": "stderr",
     "output_type": "stream",
     "text": [
      "                                                                                \r"
     ]
    },
    {
     "name": "stdout",
     "output_type": "stream",
     "text": [
      "22/11/24 14:48:41 WARN DAGScheduler: Broadcasting large task binary with size 1262.5 KiB\n"
     ]
    },
    {
     "name": "stderr",
     "output_type": "stream",
     "text": [
      "                                                                                \r"
     ]
    },
    {
     "name": "stdout",
     "output_type": "stream",
     "text": [
      "22/11/24 14:48:47 WARN DAGScheduler: Broadcasting large task binary with size 1262.5 KiB\n"
     ]
    },
    {
     "name": "stderr",
     "output_type": "stream",
     "text": [
      "                                                                                \r"
     ]
    },
    {
     "name": "stdout",
     "output_type": "stream",
     "text": [
      "22/11/24 14:48:52 WARN DAGScheduler: Broadcasting large task binary with size 1262.5 KiB\n"
     ]
    },
    {
     "name": "stderr",
     "output_type": "stream",
     "text": [
      "                                                                                \r"
     ]
    },
    {
     "name": "stdout",
     "output_type": "stream",
     "text": [
      "22/11/24 14:48:58 WARN DAGScheduler: Broadcasting large task binary with size 1262.5 KiB\n"
     ]
    },
    {
     "name": "stderr",
     "output_type": "stream",
     "text": [
      "                                                                                \r"
     ]
    },
    {
     "name": "stdout",
     "output_type": "stream",
     "text": [
      "22/11/24 14:49:03 WARN DAGScheduler: Broadcasting large task binary with size 1262.5 KiB\n"
     ]
    },
    {
     "name": "stderr",
     "output_type": "stream",
     "text": [
      "                                                                                \r"
     ]
    },
    {
     "name": "stdout",
     "output_type": "stream",
     "text": [
      "22/11/24 14:49:09 WARN DAGScheduler: Broadcasting large task binary with size 1262.5 KiB\n"
     ]
    },
    {
     "name": "stderr",
     "output_type": "stream",
     "text": [
      "                                                                                \r"
     ]
    },
    {
     "name": "stdout",
     "output_type": "stream",
     "text": [
      "22/11/24 14:49:14 WARN DAGScheduler: Broadcasting large task binary with size 1262.5 KiB\n"
     ]
    },
    {
     "name": "stderr",
     "output_type": "stream",
     "text": [
      "                                                                                \r"
     ]
    },
    {
     "name": "stdout",
     "output_type": "stream",
     "text": [
      "22/11/24 14:49:20 WARN DAGScheduler: Broadcasting large task binary with size 1262.5 KiB\n"
     ]
    },
    {
     "name": "stderr",
     "output_type": "stream",
     "text": [
      "                                                                                \r"
     ]
    },
    {
     "name": "stdout",
     "output_type": "stream",
     "text": [
      "22/11/24 14:49:25 WARN DAGScheduler: Broadcasting large task binary with size 1262.5 KiB\n"
     ]
    },
    {
     "name": "stderr",
     "output_type": "stream",
     "text": [
      "                                                                                \r"
     ]
    },
    {
     "name": "stdout",
     "output_type": "stream",
     "text": [
      "22/11/24 14:49:31 WARN DAGScheduler: Broadcasting large task binary with size 1262.5 KiB\n"
     ]
    },
    {
     "name": "stderr",
     "output_type": "stream",
     "text": [
      "                                                                                \r"
     ]
    },
    {
     "name": "stdout",
     "output_type": "stream",
     "text": [
      "22/11/24 14:49:36 WARN DAGScheduler: Broadcasting large task binary with size 1262.5 KiB\n"
     ]
    },
    {
     "name": "stderr",
     "output_type": "stream",
     "text": [
      "                                                                                \r"
     ]
    },
    {
     "name": "stdout",
     "output_type": "stream",
     "text": [
      "22/11/24 14:49:42 WARN DAGScheduler: Broadcasting large task binary with size 1262.5 KiB\n"
     ]
    },
    {
     "name": "stderr",
     "output_type": "stream",
     "text": [
      "                                                                                \r"
     ]
    },
    {
     "name": "stdout",
     "output_type": "stream",
     "text": [
      "22/11/24 14:49:48 WARN DAGScheduler: Broadcasting large task binary with size 1262.5 KiB\n"
     ]
    },
    {
     "name": "stderr",
     "output_type": "stream",
     "text": [
      "                                                                                \r"
     ]
    },
    {
     "name": "stdout",
     "output_type": "stream",
     "text": [
      "22/11/24 14:49:53 WARN DAGScheduler: Broadcasting large task binary with size 1262.5 KiB\n"
     ]
    },
    {
     "name": "stderr",
     "output_type": "stream",
     "text": [
      "                                                                                \r"
     ]
    },
    {
     "name": "stdout",
     "output_type": "stream",
     "text": [
      "22/11/24 14:49:59 WARN DAGScheduler: Broadcasting large task binary with size 1262.5 KiB\n"
     ]
    },
    {
     "name": "stderr",
     "output_type": "stream",
     "text": [
      "                                                                                \r"
     ]
    },
    {
     "name": "stdout",
     "output_type": "stream",
     "text": [
      "22/11/24 14:50:04 WARN DAGScheduler: Broadcasting large task binary with size 1262.5 KiB\n"
     ]
    },
    {
     "name": "stderr",
     "output_type": "stream",
     "text": [
      "                                                                                \r"
     ]
    },
    {
     "name": "stdout",
     "output_type": "stream",
     "text": [
      "22/11/24 14:50:10 WARN DAGScheduler: Broadcasting large task binary with size 1262.5 KiB\n"
     ]
    },
    {
     "name": "stderr",
     "output_type": "stream",
     "text": [
      "                                                                                \r"
     ]
    },
    {
     "name": "stdout",
     "output_type": "stream",
     "text": [
      "22/11/24 14:50:15 WARN DAGScheduler: Broadcasting large task binary with size 1262.5 KiB\n"
     ]
    },
    {
     "name": "stderr",
     "output_type": "stream",
     "text": [
      "                                                                                \r"
     ]
    },
    {
     "name": "stdout",
     "output_type": "stream",
     "text": [
      "22/11/24 14:50:21 WARN DAGScheduler: Broadcasting large task binary with size 1262.5 KiB\n"
     ]
    },
    {
     "name": "stderr",
     "output_type": "stream",
     "text": [
      "                                                                                \r"
     ]
    },
    {
     "name": "stdout",
     "output_type": "stream",
     "text": [
      "22/11/24 14:50:26 WARN DAGScheduler: Broadcasting large task binary with size 1262.5 KiB\n"
     ]
    },
    {
     "name": "stderr",
     "output_type": "stream",
     "text": [
      "                                                                                \r"
     ]
    },
    {
     "name": "stdout",
     "output_type": "stream",
     "text": [
      "22/11/24 14:50:32 WARN DAGScheduler: Broadcasting large task binary with size 1262.5 KiB\n"
     ]
    },
    {
     "name": "stderr",
     "output_type": "stream",
     "text": [
      "                                                                                \r"
     ]
    },
    {
     "name": "stdout",
     "output_type": "stream",
     "text": [
      "22/11/24 14:50:37 WARN DAGScheduler: Broadcasting large task binary with size 1262.5 KiB\n"
     ]
    },
    {
     "name": "stderr",
     "output_type": "stream",
     "text": [
      "                                                                                \r"
     ]
    },
    {
     "name": "stdout",
     "output_type": "stream",
     "text": [
      "22/11/24 14:50:43 WARN DAGScheduler: Broadcasting large task binary with size 1262.5 KiB\n"
     ]
    },
    {
     "name": "stderr",
     "output_type": "stream",
     "text": [
      "                                                                                \r"
     ]
    },
    {
     "name": "stdout",
     "output_type": "stream",
     "text": [
      "22/11/24 14:50:48 WARN DAGScheduler: Broadcasting large task binary with size 1262.5 KiB\n"
     ]
    },
    {
     "name": "stderr",
     "output_type": "stream",
     "text": [
      "                                                                                \r"
     ]
    },
    {
     "name": "stdout",
     "output_type": "stream",
     "text": [
      "22/11/24 14:50:54 WARN DAGScheduler: Broadcasting large task binary with size 1262.5 KiB\n"
     ]
    },
    {
     "name": "stderr",
     "output_type": "stream",
     "text": [
      "                                                                                \r"
     ]
    },
    {
     "name": "stdout",
     "output_type": "stream",
     "text": [
      "22/11/24 14:51:00 WARN DAGScheduler: Broadcasting large task binary with size 1262.5 KiB\n"
     ]
    },
    {
     "name": "stderr",
     "output_type": "stream",
     "text": [
      "                                                                                \r"
     ]
    },
    {
     "name": "stdout",
     "output_type": "stream",
     "text": [
      "22/11/24 14:51:06 WARN DAGScheduler: Broadcasting large task binary with size 1262.5 KiB\n"
     ]
    },
    {
     "name": "stderr",
     "output_type": "stream",
     "text": [
      "                                                                                \r"
     ]
    },
    {
     "name": "stdout",
     "output_type": "stream",
     "text": [
      "22/11/24 14:51:11 WARN DAGScheduler: Broadcasting large task binary with size 1262.5 KiB\n"
     ]
    },
    {
     "name": "stderr",
     "output_type": "stream",
     "text": [
      "                                                                                \r"
     ]
    },
    {
     "name": "stdout",
     "output_type": "stream",
     "text": [
      "22/11/24 14:51:16 WARN DAGScheduler: Broadcasting large task binary with size 1262.5 KiB\n"
     ]
    },
    {
     "name": "stderr",
     "output_type": "stream",
     "text": [
      "                                                                                \r"
     ]
    },
    {
     "name": "stdout",
     "output_type": "stream",
     "text": [
      "22/11/24 14:51:22 WARN DAGScheduler: Broadcasting large task binary with size 1262.5 KiB\n"
     ]
    },
    {
     "name": "stderr",
     "output_type": "stream",
     "text": [
      "                                                                                \r"
     ]
    },
    {
     "name": "stdout",
     "output_type": "stream",
     "text": [
      "22/11/24 14:51:27 WARN DAGScheduler: Broadcasting large task binary with size 1262.5 KiB\n"
     ]
    },
    {
     "name": "stderr",
     "output_type": "stream",
     "text": [
      "                                                                                \r"
     ]
    },
    {
     "name": "stdout",
     "output_type": "stream",
     "text": [
      "22/11/24 14:51:33 WARN DAGScheduler: Broadcasting large task binary with size 1262.5 KiB\n"
     ]
    },
    {
     "name": "stderr",
     "output_type": "stream",
     "text": [
      "                                                                                \r"
     ]
    },
    {
     "name": "stdout",
     "output_type": "stream",
     "text": [
      "22/11/24 14:51:38 WARN DAGScheduler: Broadcasting large task binary with size 1262.5 KiB\n"
     ]
    },
    {
     "name": "stderr",
     "output_type": "stream",
     "text": [
      "                                                                                \r"
     ]
    },
    {
     "name": "stdout",
     "output_type": "stream",
     "text": [
      "22/11/24 14:51:44 WARN DAGScheduler: Broadcasting large task binary with size 1262.5 KiB\n"
     ]
    },
    {
     "name": "stderr",
     "output_type": "stream",
     "text": [
      "                                                                                \r"
     ]
    },
    {
     "name": "stdout",
     "output_type": "stream",
     "text": [
      "22/11/24 14:51:49 WARN DAGScheduler: Broadcasting large task binary with size 1262.5 KiB\n"
     ]
    },
    {
     "name": "stderr",
     "output_type": "stream",
     "text": [
      "                                                                                \r"
     ]
    },
    {
     "name": "stdout",
     "output_type": "stream",
     "text": [
      "22/11/24 14:51:55 WARN DAGScheduler: Broadcasting large task binary with size 1262.5 KiB\n"
     ]
    },
    {
     "name": "stderr",
     "output_type": "stream",
     "text": [
      "                                                                                \r"
     ]
    },
    {
     "name": "stdout",
     "output_type": "stream",
     "text": [
      "22/11/24 14:52:01 WARN DAGScheduler: Broadcasting large task binary with size 1262.5 KiB\n"
     ]
    },
    {
     "name": "stderr",
     "output_type": "stream",
     "text": [
      "                                                                                \r"
     ]
    },
    {
     "name": "stdout",
     "output_type": "stream",
     "text": [
      "22/11/24 14:52:07 WARN DAGScheduler: Broadcasting large task binary with size 1262.5 KiB\n"
     ]
    },
    {
     "name": "stderr",
     "output_type": "stream",
     "text": [
      "                                                                                \r"
     ]
    },
    {
     "name": "stdout",
     "output_type": "stream",
     "text": [
      "22/11/24 14:52:12 WARN DAGScheduler: Broadcasting large task binary with size 1262.5 KiB\n"
     ]
    },
    {
     "name": "stderr",
     "output_type": "stream",
     "text": [
      "                                                                                \r"
     ]
    },
    {
     "name": "stdout",
     "output_type": "stream",
     "text": [
      "22/11/24 14:52:18 WARN DAGScheduler: Broadcasting large task binary with size 1262.5 KiB\n"
     ]
    },
    {
     "name": "stderr",
     "output_type": "stream",
     "text": [
      "                                                                                \r"
     ]
    },
    {
     "name": "stdout",
     "output_type": "stream",
     "text": [
      "22/11/24 14:52:23 WARN DAGScheduler: Broadcasting large task binary with size 1262.5 KiB\n"
     ]
    },
    {
     "name": "stderr",
     "output_type": "stream",
     "text": [
      "                                                                                \r"
     ]
    },
    {
     "name": "stdout",
     "output_type": "stream",
     "text": [
      "22/11/24 14:52:29 WARN DAGScheduler: Broadcasting large task binary with size 1262.5 KiB\n"
     ]
    },
    {
     "name": "stderr",
     "output_type": "stream",
     "text": [
      "                                                                                \r"
     ]
    },
    {
     "name": "stdout",
     "output_type": "stream",
     "text": [
      "22/11/24 14:52:40 WARN DAGScheduler: Broadcasting large task binary with size 1262.5 KiB\n"
     ]
    },
    {
     "name": "stderr",
     "output_type": "stream",
     "text": [
      "                                                                                \r"
     ]
    },
    {
     "name": "stdout",
     "output_type": "stream",
     "text": [
      "22/11/24 14:52:46 WARN DAGScheduler: Broadcasting large task binary with size 1262.5 KiB\n"
     ]
    },
    {
     "name": "stderr",
     "output_type": "stream",
     "text": [
      "                                                                                \r"
     ]
    },
    {
     "name": "stdout",
     "output_type": "stream",
     "text": [
      "22/11/24 14:52:51 WARN DAGScheduler: Broadcasting large task binary with size 1262.5 KiB\n"
     ]
    },
    {
     "name": "stderr",
     "output_type": "stream",
     "text": [
      "                                                                                \r"
     ]
    },
    {
     "name": "stdout",
     "output_type": "stream",
     "text": [
      "22/11/24 14:52:57 WARN DAGScheduler: Broadcasting large task binary with size 1262.5 KiB\n"
     ]
    },
    {
     "name": "stderr",
     "output_type": "stream",
     "text": [
      "                                                                                \r"
     ]
    },
    {
     "name": "stdout",
     "output_type": "stream",
     "text": [
      "22/11/24 14:53:02 WARN DAGScheduler: Broadcasting large task binary with size 1262.5 KiB\n"
     ]
    },
    {
     "name": "stderr",
     "output_type": "stream",
     "text": [
      "                                                                                \r"
     ]
    },
    {
     "name": "stdout",
     "output_type": "stream",
     "text": [
      "22/11/24 14:53:08 WARN DAGScheduler: Broadcasting large task binary with size 1262.5 KiB\n"
     ]
    },
    {
     "name": "stderr",
     "output_type": "stream",
     "text": [
      "                                                                                \r"
     ]
    },
    {
     "name": "stdout",
     "output_type": "stream",
     "text": [
      "22/11/24 14:53:13 WARN DAGScheduler: Broadcasting large task binary with size 1262.5 KiB\n"
     ]
    },
    {
     "name": "stderr",
     "output_type": "stream",
     "text": [
      "                                                                                \r"
     ]
    },
    {
     "name": "stdout",
     "output_type": "stream",
     "text": [
      "22/11/24 14:53:19 WARN DAGScheduler: Broadcasting large task binary with size 1262.5 KiB\n"
     ]
    },
    {
     "name": "stderr",
     "output_type": "stream",
     "text": [
      "                                                                                \r"
     ]
    },
    {
     "name": "stdout",
     "output_type": "stream",
     "text": [
      "22/11/24 14:53:24 WARN DAGScheduler: Broadcasting large task binary with size 1262.5 KiB\n"
     ]
    },
    {
     "name": "stderr",
     "output_type": "stream",
     "text": [
      "                                                                                \r"
     ]
    },
    {
     "name": "stdout",
     "output_type": "stream",
     "text": [
      "22/11/24 14:53:30 WARN DAGScheduler: Broadcasting large task binary with size 1262.5 KiB\n"
     ]
    },
    {
     "name": "stderr",
     "output_type": "stream",
     "text": [
      "                                                                                \r"
     ]
    }
   ],
   "source": [
    "# Building MOdel\n",
    "model = pipeline.fit(train)"
   ]
  },
  {
   "cell_type": "code",
   "execution_count": 42,
   "id": "af0694d4",
   "metadata": {},
   "outputs": [
    {
     "data": {
      "text/plain": [
       "PipelineModel_6563d430ae0f"
      ]
     },
     "execution_count": 42,
     "metadata": {},
     "output_type": "execute_result"
    }
   ],
   "source": [
    "model"
   ]
  },
  {
   "cell_type": "code",
   "execution_count": 43,
   "id": "10debc1e",
   "metadata": {},
   "outputs": [],
   "source": [
    "# Predictions on our Test Dataset\n",
    "predictions = model.transform(test)"
   ]
  },
  {
   "cell_type": "code",
   "execution_count": 44,
   "id": "7de0281f",
   "metadata": {},
   "outputs": [
    {
     "name": "stdout",
     "output_type": "stream",
     "text": [
      "22/11/24 14:58:49 WARN DAGScheduler: Broadcasting large task binary with size 4.0 MiB\n",
      "+-------+--------------------+-----+--------------------+--------------------+--------------------+--------------------+--------------------+--------------------+----------+\n",
      "|Emotion|                Text|label|          token_text|        filter_token|        raw_Features| vectorized_Features|       rawPrediction|         probability|prediction|\n",
      "+-------+--------------------+-----+--------------------+--------------------+--------------------+--------------------+--------------------+--------------------+----------+\n",
      "|  anger|  is a word f tha...|  3.0|[, , is, a, word,...|[, , word, f, man...|(45293,[0,8,103,4...|(45293,[0,8,103,4...|[3.99227929747790...|[1.75578688974792...|       3.0|\n",
      "|  anger| 4 all his solemn...|  3.0|[, 4, all, his, s...|[, 4, solemnity,,...|(45293,[0,10,18,1...|(45293,[0,10,18,1...|[-13.270781138441...|[6.92754762898715...|       3.0|\n",
      "|  anger| A man robbed me ...|  3.0|[, a, man, robbed...|[, man, robbed, t...|(45293,[0,1,16,10...|(45293,[0,1,16,10...|[-7.6798782013822...|[5.63548536537786...|       1.0|\n",
      "|  anger| A warrant for wh...|  3.0|[, a, warrant, fo...|      [, warrant, ?]|(45293,[0,4,14090...|(45293,[0,4,14090...|[-1.4654796048213...|[2.06318662305975...|       3.0|\n",
      "|  anger| All you ever do ...|  3.0|[, all, you, ever...|[, ever, unhealth...|(45293,[0,2,3,139...|(45293,[0,2,3,139...|[-21.220271893153...|[3.07090689550392...|       1.0|\n",
      "|  anger| And his story di...|  3.0|[, and, his, stor...|[, story, even, h...|(45293,[0,1,25,38...|(45293,[0,1,25,38...|[-0.6751939258226...|[2.15842475516275...|       3.0|\n",
      "|  anger| And let them rui...|  3.0|[, and, let, them...|[, let, ruin, lif...|(45293,[0,3,4,53,...|(45293,[0,3,4,53,...|[4.78757245486138...|[2.25936366293754...|       1.0|\n",
      "|  anger| And why are you ...|  3.0|[, and, why, are,...|[, yarning, ?, bo...|(45293,[0,4,1362,...|(45293,[0,4,1362,...|[4.39066943049810...|[8.32704953180639...|       3.0|\n",
      "|  anger| Anthony , you we...|  3.0|[, anthony, ,, yo...|[, anthony, ,, ca...|(45293,[0,2,3,5,1...|(45293,[0,2,3,5,1...|[13.0501132753178...|[0.03997033442680...|       6.0|\n",
      "|  anger| Apparently I was...|  3.0|[, apparently, i,...|[, apparently, fu...|(45293,[0,590,697...|(45293,[0,590,697...|[-12.813134980700...|[5.35430158284209...|       3.0|\n",
      "|  anger| Are you crazy ? ...|  3.0|[, are, you, craz...|[, crazy, ?, made...|(45293,[0,4,62,61...|(45293,[0,4,62,61...|[-19.103778693576...|[1.73552759457415...|       2.0|\n",
      "|  anger| Aren't you the p...|  3.0|[, aren't, you, t...|[, pot, calling, ...|(45293,[0,3,4,58,...|(45293,[0,3,4,58,...|[9.66847942333492...|[0.89735943247493...|       0.0|\n",
      "|  anger| At cars ! You ar...|  3.0|[, at, cars, !, y...|[, cars, !, think...|(45293,[0,2,3,4,1...|(45293,[0,2,3,4,1...|[-4.9938116036839...|[5.46010257196642...|       5.0|\n",
      "|  anger| At least if ther...|  3.0|[, at, least, if,...|[, least, 's, hum...|(45293,[0,1,2,27,...|(45293,[0,1,2,27,...|[-33.781061341397...|[1.07011670387710...|       3.0|\n",
      "|  anger| Because I'm the ...|  3.0|[, because, i'm, ...|[, wrong, sex, ,,...|(45293,[0,2,3,386...|(45293,[0,2,3,386...|[1.59930682067368...|[0.00133600573882...|       5.0|\n",
      "|  anger| But I ended up w...|  3.0|[, but, i, ended,...|[, ended, finding...|(45293,[0,1,2,21,...|(45293,[0,1,2,21,...|[-12.155821539787...|[4.84642998512501...|       3.0|\n",
      "|  anger| But didn't you t...|  3.0|[, but, didn't, y...|[, tell, appointm...|(45293,[0,4,140,1...|(45293,[0,4,140,1...|[7.29408366721136...|[1.20114858873549...|       3.0|\n",
      "|  anger| But it was her t...|  3.0|[, but, it, was, ...|[, makes, us, emb...|(45293,[0,1,63,15...|(45293,[0,1,63,15...|[-1.9981201128763...|[5.85275356900086...|       7.0|\n",
      "|  anger| But she lied to ...|  3.0|[, but, she, lied...|         [, lied, .]|(45293,[0,1,2853]...|(45293,[0,1,2853]...|[-5.7303678192948...|[5.87008230892762...|       3.0|\n",
      "|  anger| But that is terr...|  3.0|[, but, that, is,...|[, terrible, !, o...|(45293,[0,3,6,30,...|(45293,[0,3,6,30,...|[5.93777714220971...|[0.00245000852233...|       1.0|\n",
      "+-------+--------------------+-----+--------------------+--------------------+--------------------+--------------------+--------------------+--------------------+----------+\n",
      "only showing top 20 rows\n",
      "\n"
     ]
    }
   ],
   "source": [
    "predictions.show()"
   ]
  },
  {
   "cell_type": "code",
   "execution_count": 45,
   "id": "f19143dc",
   "metadata": {},
   "outputs": [
    {
     "data": {
      "text/plain": [
       "['Emotion',\n",
       " 'Text',\n",
       " 'label',\n",
       " 'token_text',\n",
       " 'filter_token',\n",
       " 'raw_Features',\n",
       " 'vectorized_Features',\n",
       " 'rawPrediction',\n",
       " 'probability',\n",
       " 'prediction']"
      ]
     },
     "execution_count": 45,
     "metadata": {},
     "output_type": "execute_result"
    }
   ],
   "source": [
    "# Select Columns\n",
    "predictions.columns"
   ]
  },
  {
   "cell_type": "code",
   "execution_count": 52,
   "id": "fe3896d6",
   "metadata": {},
   "outputs": [
    {
     "name": "stdout",
     "output_type": "stream",
     "text": [
      "22/11/24 15:07:13 WARN DAGScheduler: Broadcasting large task binary with size 4.0 MiB\n",
      "+--------------------+--------------------+-------+-----+----------+\n",
      "|       rawPrediction|         probability|Emotion|label|prediction|\n",
      "+--------------------+--------------------+-------+-----+----------+\n",
      "|[3.99227929747790...|[1.75578688974792...|  anger|  3.0|       3.0|\n",
      "|[-13.270781138441...|[6.92754762898715...|  anger|  3.0|       3.0|\n",
      "|[-7.6798782013822...|[5.63548536537786...|  anger|  3.0|       1.0|\n",
      "|[-1.4654796048213...|[2.06318662305975...|  anger|  3.0|       3.0|\n",
      "|[-21.220271893153...|[3.07090689550392...|  anger|  3.0|       1.0|\n",
      "+--------------------+--------------------+-------+-----+----------+\n",
      "only showing top 5 rows\n",
      "\n"
     ]
    }
   ],
   "source": [
    "predictions.select('rawPrediction','probability','Emotion','label','prediction').show(5)"
   ]
  },
  {
   "cell_type": "markdown",
   "id": "913bd201",
   "metadata": {},
   "source": [
    "## Model Evaluation\n",
    "\n",
    "+ Accuracy\n",
    "+ Precision\n",
    "+ F1score\n",
    "\n",
    "### Method 1 - Accuracy"
   ]
  },
  {
   "cell_type": "code",
   "execution_count": 53,
   "id": "ffff5f39",
   "metadata": {},
   "outputs": [],
   "source": [
    "from pyspark.ml.evaluation import MulticlassClassificationEvaluator"
   ]
  },
  {
   "cell_type": "code",
   "execution_count": 54,
   "id": "5c2fc719",
   "metadata": {},
   "outputs": [],
   "source": [
    "evaluator = MulticlassClassificationEvaluator(labelCol='label',predictionCol='prediction',metricName='accuracy')"
   ]
  },
  {
   "cell_type": "code",
   "execution_count": 55,
   "id": "78c7e8b4",
   "metadata": {},
   "outputs": [
    {
     "name": "stdout",
     "output_type": "stream",
     "text": [
      "22/11/24 15:11:11 WARN DAGScheduler: Broadcasting large task binary with size 4.0 MiB\n"
     ]
    },
    {
     "data": {
      "text/plain": [
       "0.5178174794785128"
      ]
     },
     "execution_count": 55,
     "metadata": {},
     "output_type": "execute_result"
    }
   ],
   "source": [
    "accuracy = evaluator.evaluate(predictions)\n",
    "accuracy"
   ]
  },
  {
   "cell_type": "code",
   "execution_count": 58,
   "id": "3fdee464",
   "metadata": {},
   "outputs": [
    {
     "name": "stderr",
     "output_type": "stream",
     "text": [
      "                                                                                \r"
     ]
    },
    {
     "name": "stdout",
     "output_type": "stream",
     "text": [
      "22/11/24 15:15:36 WARN TaskSetManager: Stage 156 contains a task of very large size (2893 KiB). The maximum recommended task size is 1000 KiB.\n"
     ]
    }
   ],
   "source": [
    "# Saving Model\n",
    "modelPath = \"models/pyspark_lr_model_24_Nov_2022\"\n",
    "model.save(modelPath)"
   ]
  },
  {
   "cell_type": "markdown",
   "id": "5e39ad6a",
   "metadata": {},
   "source": [
    "# Confusion Matrix"
   ]
  },
  {
   "cell_type": "code",
   "execution_count": 61,
   "id": "0371379c",
   "metadata": {},
   "outputs": [
    {
     "name": "stderr",
     "output_type": "stream",
     "text": [
      "Exception ignored in: <function JavaModelWrapper.__del__ at 0x142d723e0>\n",
      "Traceback (most recent call last):\n",
      "  File \"/Users/srijanaraut/venv/lib/python3.11/site-packages/pyspark/mllib/common.py\", line 152, in __del__\n",
      "    assert self._sc._gateway is not None\n",
      "           ^^^^^^^^\n",
      "AttributeError: 'MulticlassMetrics' object has no attribute '_sc'\n"
     ]
    },
    {
     "name": "stdout",
     "output_type": "stream",
     "text": [
      "22/11/24 15:25:44 WARN DAGScheduler: Broadcasting large task binary with size 4.0 MiB\n"
     ]
    }
   ],
   "source": [
    "y_true = predictions.select('label')\n",
    "y_true = y_true.toPandas()\n",
    "y_pred = predictions.select('prediction')\n",
    "y_pred = y_pred.toPandas()"
   ]
  },
  {
   "cell_type": "code",
   "execution_count": 62,
   "id": "0a318f17",
   "metadata": {},
   "outputs": [],
   "source": [
    "from sklearn.metrics import confusion_matrix,classification_report"
   ]
  },
  {
   "cell_type": "code",
   "execution_count": 63,
   "id": "47aab4e7",
   "metadata": {},
   "outputs": [
    {
     "data": {
      "text/plain": [
       "array([[1938,  366,  183,  239,  287,  285,   32,    3],\n",
       "       [ 403,  956,  141,  193,  130,  157,   15,    4],\n",
       "       [ 182,  162,  914,  142,   69,  110,   10,    0],\n",
       "       [ 175,  175,  107,  586,   56,  106,   12,    5],\n",
       "       [ 296,  161,   70,   85,  414,  162,   14,    0],\n",
       "       [ 107,   42,   18,   48,    3,  493,    2,    0],\n",
       "       [  50,   41,   29,   45,   28,   34,   32,    1],\n",
       "       [   3,    2,    1,    2,    0,    0,    0,   29]])"
      ]
     },
     "execution_count": 63,
     "metadata": {},
     "output_type": "execute_result"
    }
   ],
   "source": [
    "cm = confusion_matrix(y_true,y_pred)\n",
    "cm"
   ]
  },
  {
   "cell_type": "code",
   "execution_count": 64,
   "id": "71d289db",
   "metadata": {},
   "outputs": [],
   "source": [
    "import matplotlib.pyplot as plt\n",
    "import numpy as np\n",
    "import itertools\n",
    "\n",
    "def plot_confusion_matrix(cm, classes,\n",
    "                          normalize=False,\n",
    "                          title='Confusion matrix',\n",
    "                          cmap=plt.cm.Blues):\n",
    "    \"\"\"\n",
    "    This function prints and plots the confusion matrix.\n",
    "    Normalization can be applied by setting `normalize=True`.\n",
    "    \"\"\"\n",
    "    if normalize:\n",
    "        cm = cm.astype('float') / cm.sum(axis=1)[:, np.newaxis]\n",
    "        print(\"Normalized confusion matrix\")\n",
    "    else:\n",
    "        print('Confusion matrix, without normalization')\n",
    "\n",
    "    print(cm)\n",
    "\n",
    "    plt.imshow(cm, interpolation='nearest', cmap=cmap)\n",
    "    plt.title(title)\n",
    "    plt.colorbar()\n",
    "    tick_marks = np.arange(len(classes))\n",
    "    plt.xticks(tick_marks, classes, rotation=45)\n",
    "    plt.yticks(tick_marks, classes)\n",
    "\n",
    "    fmt = '.2f' if normalize else 'd'\n",
    "    thresh = cm.max() / 2.\n",
    "    for i, j in itertools.product(range(cm.shape[0]), range(cm.shape[1])):\n",
    "        plt.text(j, i, format(cm[i, j], fmt),\n",
    "                 horizontalalignment=\"center\",\n",
    "                 color=\"white\" if cm[i, j] > thresh else \"black\")\n",
    "\n",
    "    plt.tight_layout()\n",
    "    plt.ylabel('True label')\n",
    "    plt.xlabel('Predicted label')\n"
   ]
  },
  {
   "cell_type": "code",
   "execution_count": 69,
   "id": "b247918e",
   "metadata": {},
   "outputs": [],
   "source": [
    "class_names = ['joy', 'sadness', 'fear', 'anger', 'surprise', 'neutral', 'disgust', 'shame']"
   ]
  },
  {
   "cell_type": "code",
   "execution_count": 70,
   "id": "86ba905c",
   "metadata": {},
   "outputs": [
    {
     "name": "stdout",
     "output_type": "stream",
     "text": [
      "Confusion matrix, without normalization\n",
      "[[1938  366  183  239  287  285   32    3]\n",
      " [ 403  956  141  193  130  157   15    4]\n",
      " [ 182  162  914  142   69  110   10    0]\n",
      " [ 175  175  107  586   56  106   12    5]\n",
      " [ 296  161   70   85  414  162   14    0]\n",
      " [ 107   42   18   48    3  493    2    0]\n",
      " [  50   41   29   45   28   34   32    1]\n",
      " [   3    2    1    2    0    0    0   29]]\n"
     ]
    },
    {
     "data": {
      "image/png": "[encoded data removed]",
      "text/plain": [
       "<Figure size 640x480 with 2 Axes>"
      ]
     },
     "metadata": {},
     "output_type": "display_data"
    }
   ],
   "source": [
    "plot_confusion_matrix(cm,class_names)"
   ]
  },
  {
   "cell_type": "code",
   "execution_count": 71,
   "id": "db9fa435",
   "metadata": {},
   "outputs": [],
   "source": [
    "# import warnings\n",
    "# warnings.filterwarnings('ignore')"
   ]
  },
  {
   "cell_type": "code",
   "execution_count": 72,
   "id": "a718c932",
   "metadata": {},
   "outputs": [
    {
     "name": "stdout",
     "output_type": "stream",
     "text": [
      "              precision    recall  f1-score   support\n",
      "\n",
      "         0.0       0.61      0.58      0.60      3333\n",
      "         1.0       0.50      0.48      0.49      1999\n",
      "         2.0       0.62      0.58      0.60      1589\n",
      "         3.0       0.44      0.48      0.46      1222\n",
      "         4.0       0.42      0.34      0.38      1202\n",
      "         5.0       0.37      0.69      0.48       713\n",
      "         6.0       0.27      0.12      0.17       260\n",
      "         7.0       0.69      0.78      0.73        37\n",
      "\n",
      "    accuracy                           0.52     10355\n",
      "   macro avg       0.49      0.51      0.49     10355\n",
      "weighted avg       0.53      0.52      0.52     10355\n",
      "\n"
     ]
    }
   ],
   "source": [
    "# Classication Report\n",
    "print(classification_report(y_true,y_pred))"
   ]
  },
  {
   "cell_type": "code",
   "execution_count": 73,
   "id": "6c22ad50",
   "metadata": {},
   "outputs": [
    {
     "name": "stdout",
     "output_type": "stream",
     "text": [
      "              precision    recall  f1-score   support\n",
      "\n",
      "         joy       0.61      0.58      0.60      3333\n",
      "     sadness       0.50      0.48      0.49      1999\n",
      "        fear       0.62      0.58      0.60      1589\n",
      "       anger       0.44      0.48      0.46      1222\n",
      "    surprise       0.42      0.34      0.38      1202\n",
      "     neutral       0.37      0.69      0.48       713\n",
      "     disgust       0.27      0.12      0.17       260\n",
      "       shame       0.69      0.78      0.73        37\n",
      "\n",
      "    accuracy                           0.52     10355\n",
      "   macro avg       0.49      0.51      0.49     10355\n",
      "weighted avg       0.53      0.52      0.52     10355\n",
      "\n"
     ]
    }
   ],
   "source": [
    "# Classication Report\n",
    "print(classification_report(y_true,y_pred,target_names=class_names))"
   ]
  },
  {
   "cell_type": "code",
   "execution_count": null,
   "id": "ba2b6f16",
   "metadata": {},
   "outputs": [],
   "source": []
  },
  {
   "cell_type": "code",
   "execution_count": null,
   "id": "8c944eee",
   "metadata": {},
   "outputs": [],
   "source": []
  },
  {
   "cell_type": "code",
   "execution_count": null,
   "id": "f56f7f1a",
   "metadata": {},
   "outputs": [],
   "source": []
  },
  {
   "cell_type": "code",
   "execution_count": null,
   "id": "b6883beb",
   "metadata": {},
   "outputs": [],
   "source": []
  },
  {
   "cell_type": "code",
   "execution_count": null,
   "id": "32e863d7",
   "metadata": {},
   "outputs": [],
   "source": []
  }
 ],
 "metadata": {
  "kernelspec": {
   "display_name": "venv",
   "language": "python",
   "name": "venv"
  },
  "language_info": {
   "codemirror_mode": {
    "name": "ipython",
    "version": 3
   },
   "file_extension": ".py",
   "mimetype": "text/x-python",
   "name": "python",
   "nbconvert_exporter": "python",
   "pygments_lexer": "ipython3",
   "version": "3.11.0"
  }
 },
 "nbformat": 4,
 "nbformat_minor": 5
}
